#Import libraries with alias
import pandas as pd
import pandasql as ps
import numpy as np

#Import CSV files as Pandas DataFrames
mobility_fr = pd.read_csv('/Users/HakT/Desktop/PSB - PGE Master/PSB - PGE M2 DM 20/Cursus/Supports De Cours/Semestre 1/SQL Data Management - O.Mamavi/2020_FR_Region_Mobility_Report.csv', delimiter = ',')
apple_mob = pd.read_csv('/Users/HakT/Desktop/PSB - PGE Master/PSB - PGE M2 DM 20/Cursus/Supports De Cours/Semestre 1/SQL Data Management - O.Mamavi/applemobilitytrends-2020-11-17.csv', delimiter = ',')
attente_guichet = pd.read_csv('/Users/HakT/Desktop/PSB - PGE Master/PSB - PGE M2 DM 20/Cursus/Supports De Cours/Semestre 1/SQL Data Management - O.Mamavi/attente-au-guichet-3.csv', delimiter = ';')
bilan_elec = pd.read_csv('/Users/HakT/Desktop/PSB - PGE Master/PSB - PGE M2 DM 20/Cursus/Supports De Cours/Semestre 1/SQL Data Management - O.Mamavi/bilan-electrique-transpose.csv', delimiter = ';')

#File : 2020_FR_Region_Mobility_Report.csv

#Delete 'country_region_code','metro_area','census_fips_code' from 'fr' table
list_var = mobility_fr.columns.drop(['country_region_code','metro_area','census_fips_code'])
fr = mobility_fr[list_var]

#Put variable 'date' to first column
first_col = fr.pop('date')
fr.insert(0, 'id_date', first_col) #Rename 'date' with 'id_date' in the same case

#Rename columns
fr = fr.rename(columns={'country_region' : 'country', 'sub_region_1': 'region', 'sub_region_2': 'dept', 'iso_3166_2_code' : 'postal_code', 'retail_and_recreation_percent_change_from_baseline' : 'retail_and_recreation',
       'grocery_and_pharmacy_percent_change_from_baseline' : 'grocery_and_pharmacy',
       'parks_percent_change_from_baseline' : 'parks',
       'transit_stations_percent_change_from_baseline' : 'transit_stations',
       'workplaces_percent_change_from_baseline' : 'workplaces',
       'residential_percent_change_from_baseline' : 'residential'})

#Export Pandas DataFrame to a CSV File
fr.to_csv('/Users/HakT/Desktop/PSB - PGE Master/PSB - PGE M2 DM 20/Cursus/Supports De Cours/Semestre 1/SQL Data Management - O.Mamavi/mobility_fr.csv', index = False)

#File : applemobilitytrends-2020-11-17.csv

#Delete 'geo_type','alternative_name','sub-region' from 'apple_mob' table
list_var2 = apple_mob.columns.drop(['geo_type','alternative_name','sub-region'])
apple_mob = apple_mob[list_var2]

#SQL query
##Select "France" rows 
q2 = "select * from apple_mob where country = 'France'" #declaring the query
q3 = ps.sqldf(q2, locals()) #launching the query

#Keep base columns as a list
col = list(apple_mob.columns.drop(['region','country', 'transportation_type',]))

#Convert multiple column names to row values
df2 = q3.melt(id_vars=['region','country', 'transportation_type'], value_vars = col, var_name="id_date", value_name="Value")

#Put variable 'date' to first column
frst_col = df2.pop('id_date')
df2.insert(0, 'id_date', frst_col) #Rename 'date' with 'id_date' in the same case

#Export Pandas DataFrame to a CSV File
df2.to_csv('/Users/HakT/Desktop/PSB - PGE Master/PSB - PGE M2 DM 20/Cursus/Supports De Cours/Semestre 1/SQL Data Management - O.Mamavi/apple_mob.csv', index = False)

#--------------------------------------------------------------------------------------------
#Subdivide dataset by transportation type : Driving / Transit / Walking
##Declare queries
q4 = "select * from df2 where transportation_type = 'driving'"
q5 = "select * from df2 where transportation_type = 'transit'"
q6 = "select * from df2 where transportation_type = 'walking'"

##Launch queries
driving = ps.sqldf(q4, locals())
transit = ps.sqldf(q5, locals())
walking = ps.sqldf(q6, locals())

##Rename columns
driving = driving.rename(columns={'Value' : 'driving'})
transit = transit.rename(columns={'Value' : 'transit'})
walking = walking.rename(columns={'Value' : 'walking'})

##Delete 'transportation_type' columns
driving = driving.drop(['transportation_type'], axis=1)
transit = transit.drop(['transportation_type'], axis=1)
walking = walking.drop(['transportation_type'], axis=1)

#Export Pandas DataFrames to CSV Files
driving.to_csv('/Users/HakT/Desktop/PSB - PGE Master/PSB - PGE M2 DM 20/Cursus/Supports De Cours/Semestre 1/SQL Data Management - O.Mamavi/driving.csv', index = False)
transit.to_csv('/Users/HakT/Desktop/PSB - PGE Master/PSB - PGE M2 DM 20/Cursus/Supports De Cours/Semestre 1/SQL Data Management - O.Mamavi/transit.csv', index = False)
walking.to_csv('/Users/HakT/Desktop/PSB - PGE Master/PSB - PGE M2 DM 20/Cursus/Supports De Cours/Semestre 1/SQL Data Management - O.Mamavi/walking.csv', index = False)

#Merge 'mobility_fr' + 'driving/transit/walking' files

#Import CSV files as Pandas DataFrames
mobility_fr = pd.read_csv('/Users/HakT/Desktop/PSB - PGE Master/PSB - PGE M2 DM 20/Cursus/Supports De Cours/Semestre 1/SQL Data Management - O.Mamavi/mobility_fr.csv', delimiter = ',')
driv = pd.read_csv('/Users/HakT/Desktop/PSB - PGE Master/PSB - PGE M2 DM 20/Cursus/Supports De Cours/Semestre 1/SQL Data Management - O.Mamavi/driving.csv', delimiter = ',')
trans = pd.read_csv('/Users/HakT/Desktop/PSB - PGE Master/PSB - PGE M2 DM 20/Cursus/Supports De Cours/Semestre 1/SQL Data Management - O.Mamavi/transit.csv', delimiter = ',')
walk = pd.read_csv('/Users/HakT/Desktop/PSB - PGE Master/PSB - PGE M2 DM 20/Cursus/Supports De Cours/Semestre 1/SQL Data Management - O.Mamavi/walking.csv', delimiter = ',')

##Step 1 : Merge 'driving/transit/walking' files
#Declare query
qb = "select d.id_date as date, d.region, d.country, d.driving, tr.transit, w.walking from driv as d inner join trans as tr on d.id_date = tr.id_date inner join walk as w on d.id_date = w.id_date"

#Launch query
tabb = ps.sqldf(qb, locals())
me_mob = "select * from tabb group by date, region"
f_mob = ps.sqldf(me_mob, locals())

#Export Pandas DataFrame to CSV File
f_mob.to_csv('/Users/HakT/Desktop/PSB - PGE Master/PSB - PGE M2 DM 20/Cursus/Supports De Cours/Semestre 1/SQL Data Management - O.Mamavi/merge_mob.csv', index = False)


###-------------------------------

##Step 2 : Final Merge 
#Import CSV file as Pandas DataFrame
merge_mob = pd.read_csv('/Users/HakT/Desktop/PSB - PGE Master/PSB - PGE M2 DM 20/Cursus/Supports De Cours/Semestre 1/SQL Data Management - O.Mamavi/merge_mob.csv', delimiter = ',')

#Rename values
merge_mob['region'] = merge_mob['region'].replace(['Auvergne Region', 'Rhône-Alpes Region', 'Burgundy Region', 'Franche-Comté Region', 'Brittany Region', 'Centre Region', 'Corsica Region', 'Alsace Region', 'Lorraine Region', 'Champagne-Ardenne Region', 'Nord-Pas-de-Calais Region', 'Picardy Region', 'Île-de-France Region', 'Lower Normandy Region', 'Upper Normandy Region', 'Aquitaine Region', 'Limousin Region', 'Poitou-Charentes Region', 'Languedoc-Roussillon', 'Midi-Pyrénées Region', 'Pays de la Loire Region', "Provence-Alpes-Côte d'Azur Region"],['Auvergne-Rhône-Alpes', 'Auvergne-Rhône-Alpes', 'Bourgogne-Franche-Comté', 'Bourgogne-Franche-Comté', 'Brittany', 'Centre-Val de Loire', 'Corsica', 'Grand Est', 'Grand Est', 'Grand Est', 'Hauts-de-France', 'Hauts-de-France', 'Île-de-France', 'Normandy', 'Normandy', 'Nouvelle-Aquitaine', 'Nouvelle-Aquitaine', 'Nouvelle-Aquitaine', 'Occitanie', 'Occitanie', 'Pays de la Loire', "Provence-Alpes-Côte d'Azur"])

#Declare query
qc = "select t.date , t.country, t.region, t.driving, t.transit, t.walking, m.dept, m.postal_code, m.retail_and_recreation, m.grocery_and_pharmacy, m.parks, m.transit_stations, m.workplaces, m.residential from merge_mob as t inner join mobility_fr as m on t.date = m.id_date and t.region = m.region"

#Launch query
tabc = ps.sqldf(qc, locals())
final_mob = "select * from tabc group by date, region"
final_mobi = ps.sqldf(final_mob, locals())

#Export Pandas DataFrame to CSV File
tabc.to_csv('/Users/HakT/Desktop/PSB - PGE Master/PSB - PGE M2 DM 20/Cursus/Supports De Cours/Semestre 1/SQL Data Management - O.Mamavi/merge_fr_mob_apple.csv', index = False)

#File : attente-au-guichet-3

#Delete 'Code UIC' from 'attente_guichet' table
list_var = attente_guichet.columns.drop(['Code UIC'])
attente_guichet = attente_guichet[list_var]

#Put variable 'date' to first column
fst_col = attente_guichet.pop('Date')
attente_guichet.insert(0, 'id_date', fst_col)  #Rename 'date' with 'id_date' in the same case

#Rename columns
attente_guichet = attente_guichet.rename(columns={'Point de vente' : 'gare', 'Arrivés' : 'temps_total', 'TA > 30' : 'TA_inf_30', 'TA > 60' : 'TA_sup_60'})

#Export Pandas DataFrames to a CSV File
attente_guichet.to_csv('attente_guichet.csv', index = False)

#File :bilan-electrique-transpose.csv

#Put variable 'date' to first column
ft_col = bilan_elec.pop('jour')
bilan_elec.insert(0, 'id_date', ft_col)  #Rename 'jour' with 'id_date' in the same case

#Export Pandas DataFrames to CSV Files
bilan_elec.to_csv('/Users/HakT/Desktop/PSB - PGE Master/PSB - PGE M2 DM 20/Cursus/Supports De Cours/Semestre 1/SQL Data Management - O.Mamavi/bilan_elec.csv', index = False)

#--------------------------------------------------------------------------------------------
#Subdivide dataset by categorie : Entreprises / Professionnels / Résidentiels / PME - PMI
##Declare queries
q7 = "select * from bilan_elec where categorie = 'Entreprises'"
q8 = "select * from bilan_elec where categorie = 'Professionnels'"
q9 = "select * from bilan_elec where categorie = 'Résidentiels'"
q10 = "select * from bilan_elec where categorie = 'PME / PMI'"

##Launch queries
entreprises = ps.sqldf(q7, locals())
professionnels = ps.sqldf(q8, locals())
residentiels = ps.sqldf(q9, locals())
pme = ps.sqldf(q10, locals())

##Rename columns
entreprises = entreprises.rename(columns={'value' : 'entreprises'})
professionnels = professionnels.rename(columns={'value' : 'professionnels'})
residentiels = residentiels.rename(columns={'value' : 'residentiels'})
pme = pme.rename(columns={'value' : 'pme'})

##Delete 'categorie' columns
entreprises = entreprises.drop(['categorie'], axis=1)
professionnels = professionnels.drop(['categorie'], axis=1)
residentiels = residentiels.drop(['categorie'], axis=1)
pme = pme.drop(['categorie'], axis=1)

##Export Pandas DataFrames to CSV Files
entreprises.to_csv('/Users/HakT/Desktop/PSB - PGE Master/PSB - PGE M2 DM 20/Cursus/Supports De Cours/Semestre 1/SQL Data Management - O.Mamavi/bilan_elec_entreprises.csv', index = False)
professionnels.to_csv('/Users/HakT/Desktop/PSB - PGE Master/PSB - PGE M2 DM 20/Cursus/Supports De Cours/Semestre 1/SQL Data Management - O.Mamavi/bilan_elec_professionnels.csv', index = False)
residentiels.to_csv('/Users/HakT/Desktop/PSB - PGE Master/PSB - PGE M2 DM 20/Cursus/Supports De Cours/Semestre 1/SQL Data Management - O.Mamavi/bilan_elec_residentiels.csv', index = False)
pme.to_csv('/Users/HakT/Desktop/PSB - PGE Master/PSB - PGE M2 DM 20/Cursus/Supports De Cours/Semestre 1/SQL Data Management - O.Mamavi/bilan_elec_pme.csv', index = False)

#--------------------------------------------------------------------------------------------
#Merge Entreprises / Professionnels / Résidentiels / PME - PMI files

#Import CSV files as Pandas DataFrames
entreprises = pd.read_csv('/Users/HakT/Desktop/PSB - PGE Master/PSB - PGE M2 DM 20/Cursus/Supports De Cours/Semestre 1/SQL Data Management - O.Mamavi/bilan_elec_entreprises.csv', delimiter = ',')
professionnels = pd.read_csv('/Users/HakT/Desktop/PSB - PGE Master/PSB - PGE M2 DM 20/Cursus/Supports De Cours/Semestre 1/SQL Data Management - O.Mamavi/bilan_elec_professionnels.csv', delimiter = ',')
residentiels = pd.read_csv('/Users/HakT/Desktop/PSB - PGE Master/PSB - PGE M2 DM 20/Cursus/Supports De Cours/Semestre 1/SQL Data Management - O.Mamavi/bilan_elec_residentiels.csv', delimiter = ',')
pme = pd.read_csv('/Users/HakT/Desktop/PSB - PGE Master/PSB - PGE M2 DM 20/Cursus/Supports De Cours/Semestre 1/SQL Data Management - O.Mamavi/bilan_elec_pme.csv', delimiter = ',')

#Declare query
qd = "select e.id_date as date, e.entreprises, p.professionnels, r.residentiels, pm.pme from entreprises as e inner join professionnels as p on e.id_date = p.id_date inner join residentiels as r on e.id_date = r.id_date inner join pme as pm on e.id_date = pm.id_date"

#Launch query
tabd = ps.sqldf(qd, locals())

#Export Pandas DataFrame to CSV File
tabd.to_csv('/Users/HakT/Desktop/PSB - PGE Master/PSB - PGE M2 DM 20/Cursus/Supports De Cours/Semestre 1/SQL Data Management - O.Mamavi/elec_merge.csv', index = False)

##Merge 'mobility_fr_v2' + 'fichier_donnee_a_plat' files 
#Import CSV files as Pandas DataFrames
mobility_fr_v2 = pd.read_csv('/Users/HakT/Desktop/PSB - PGE Master/PSB - PGE M2 DM 20/Cursus/Supports De Cours/Semestre 1/SQL Data Management - O.Mamavi/mobility_fr_v2.csv', delimiter = ';')
fichier_donnee_a_plat = pd.read_csv('/Users/HakT/Desktop/PSB - PGE Master/PSB - PGE M2 DM 20/Cursus/Supports De Cours/Semestre 1/SQL Data Management - O.Mamavi/fichier_donnee_a_plat.csv', delimiter = ';')

##Step 1 : Merge 'mobility_fr_v2/fichier_donnee_a_plat' files
#Declare query

qe = "select f.JOUR, f.DEP, f.P, f.T, f.HOSP, f.REA, f.RAD, f.DC, m.region, m.retail_and_recreation, m.grocery_and_pharmacy, m.parks, m.transit_stations, m.workplaces, m.residential from fichier_donnee_a_plat as f left join mobility_fr_v2 as m on f.JOUR = m.id_date and f.DEP = m.DEP"
 
#Launch query
tabe = ps.sqldf(qe, locals())
tabe.to_csv('/Users/HakT/Desktop/PSB - PGE Master/PSB - PGE M2 DM 20/Cursus/Supports De Cours/Semestre 1/SQL Data Management - O.Mamavi/fiche_merge.csv', index = False)
